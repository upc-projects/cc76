{
 "cells": [
  {
   "cell_type": "markdown",
   "metadata": {},
   "source": [
    "# Week 1"
   ]
  },
  {
   "cell_type": "code",
   "execution_count": 1,
   "metadata": {},
   "outputs": [
    {
     "name": "stdout",
     "output_type": "stream",
     "text": [
      "[63, 32, 62, 19, 5, 47, 6, 92, 80, 62]\n",
      "[62, 80, 92, 6, 47, 5, 19, 62, 32, 63]\n",
      "5\n",
      "47\n",
      "[1, 1, 2, 1, 1, 1, 1, 1, 1, 2]\n"
     ]
    }
   ],
   "source": [
    "import random as r\n",
    "\n",
    "def generar(n):\n",
    "    a = [0]*n\n",
    "    return list(map(lambda x : r.randint(1,100), a))\n",
    "\n",
    "def mostar(array):\n",
    "    print(array)\n",
    "\n",
    "def reversa(array):\n",
    "    print(array[::-1])\n",
    "\n",
    "def minArreglo(array):\n",
    "    return min(array)\n",
    "\n",
    "def mediaArreglo(array):\n",
    "    pos = int(len(array)/2)\n",
    "    return array[pos]\n",
    "\n",
    "def ocurrencias(array):\n",
    "    return list(map(lambda x : array.count(x), array))\n",
    "\n",
    "def main():\n",
    "    n = 10\n",
    "    a = generar(n)\n",
    "    print(a)\n",
    "    reversa(a)\n",
    "    print(minArreglo(a))\n",
    "    print(mediaArreglo(a))\n",
    "    print(ocurrencias(a))\n",
    "\n",
    "if __name__ == \"__main__\":\n",
    "    main()"
   ]
  },
  {
   "cell_type": "code",
   "execution_count": 2,
   "metadata": {},
   "outputs": [
    {
     "name": "stdout",
     "output_type": "stream",
     "text": [
      "[1, 2, 3, 4, 5, 6, 7, 8, 9, 10, 11, 12, 13, 14, 15, 16, 17, 18, 19, 20, 21, 22, 23, 24, 25, 26, 27, 28, 29, 30, 31, 32, 33, 34, 35, 36, 37, 38, 39, 40, 41, 42, 43, 44, 45, 46, 47, 48, 49, 50, 51, 52, 53, 54, 55, 56, 57, 58, 59, 60, 61, 62, 63, 64, 65, 66, 67, 68, 69, 70, 71, 72, 73, 74, 75, 76, 77, 78, 79, 80, 81, 82, 83, 84, 85, 86, 87, 88, 89, 90, 91, 92, 93, 94, 95, 96, 97, 98, 99, 100]\n"
     ]
    }
   ],
   "source": [
    "def main():\n",
    "    a = [0] * 100\n",
    "    for i in range(0,100):\n",
    "        a[i] = i + 1\n",
    "    print(a)\n",
    "\n",
    "if __name__ == \"__main__\":\n",
    "    main()\n"
   ]
  },
  {
   "cell_type": "code",
   "execution_count": null,
   "metadata": {},
   "outputs": [],
   "source": []
  }
 ],
 "metadata": {
  "kernelspec": {
   "display_name": "Python 3",
   "language": "python",
   "name": "python3"
  },
  "language_info": {
   "codemirror_mode": {
    "name": "ipython",
    "version": 3
   },
   "file_extension": ".py",
   "mimetype": "text/x-python",
   "name": "python",
   "nbconvert_exporter": "python",
   "pygments_lexer": "ipython3",
   "version": "3.7.3"
  }
 },
 "nbformat": 4,
 "nbformat_minor": 2
}
