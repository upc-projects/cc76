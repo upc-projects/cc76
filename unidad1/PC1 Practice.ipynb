{
 "cells": [
  {
   "cell_type": "code",
   "execution_count": 21,
   "metadata": {},
   "outputs": [],
   "source": [
    "# pregunta 4\n",
    "\n",
    "def read_data(file, data):\n",
    "    f = open(file, 'r')\n",
    "    flines = f.readlines()\n",
    "    for row in flines:\n",
    "        yield list(row.split())\n",
    "        "
   ]
  },
  {
   "cell_type": "code",
   "execution_count": 47,
   "metadata": {},
   "outputs": [
    {
     "name": "stdout",
     "output_type": "stream",
     "text": [
      "[['2', '9', '7'], ['2', '12', '40'], ['3', '4', '3', '2'], ['3', '8', '3', '7'], ['0']]\n"
     ]
    }
   ],
   "source": [
    "data = []\n",
    "for r in read_data('datapc1.txt', data):\n",
    "    data.append(r)\n",
    "\n",
    "print(data)"
   ]
  },
  {
   "cell_type": "code",
   "execution_count": 68,
   "metadata": {},
   "outputs": [],
   "source": [
    "def solveProblem4(data):\n",
    "    for row in data:\n",
    "        if len(row) <= 2:\n",
    "            break\n",
    "        else:\n",
    "            n = row[0]\n",
    "            ar = row[1:]\n",
    "            if ar == sorted(ar):\n",
    "                yield 0\n",
    "            else:\n",
    "                v = 0\n",
    "                for i in range(int(n)):\n",
    "                    for j in range(int(n)):\n",
    "                        if ar[i] > ar[j]:\n",
    "                            ar[i], ar[j] = ar[j], ar[i]\n",
    "                            v += 1\n",
    "                \n",
    "                yield v"
   ]
  },
  {
   "cell_type": "code",
   "execution_count": 69,
   "metadata": {},
   "outputs": [
    {
     "name": "stdout",
     "output_type": "stream",
     "text": [
      "2\n",
      "0\n",
      "4\n",
      "3\n"
     ]
    }
   ],
   "source": [
    "for i in solveProblem4(data):\n",
    "    print(i)"
   ]
  }
 ],
 "metadata": {
  "kernelspec": {
   "display_name": "Python 3",
   "language": "python",
   "name": "python3"
  },
  "language_info": {
   "codemirror_mode": {
    "name": "ipython",
    "version": 3
   },
   "file_extension": ".py",
   "mimetype": "text/x-python",
   "name": "python",
   "nbconvert_exporter": "python",
   "pygments_lexer": "ipython3",
   "version": "3.7.3"
  }
 },
 "nbformat": 4,
 "nbformat_minor": 2
}
