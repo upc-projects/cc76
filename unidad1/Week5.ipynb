{
 "cells": [
  {
   "cell_type": "markdown",
   "metadata": {},
   "source": [
    "# Week5"
   ]
  },
  {
   "cell_type": "code",
   "execution_count": 2,
   "metadata": {},
   "outputs": [
    {
     "name": "stdout",
     "output_type": "stream",
     "text": [
      "(6, 300)\n",
      "(10, 100)\n",
      "(15, 200)\n"
     ]
    }
   ],
   "source": [
    "# ucs\n",
    "import heapq as pq\n",
    "import math\n",
    "INF = float('inf')\n",
    "q = []\n",
    "pq.heappush(q, (10, 100))\n",
    "pq.heappush(q, (6, 300))\n",
    "pq.heappush(q, (15, 200))\n",
    "print(pq.heappop(q))\n",
    "print(pq.heappop(q))\n",
    "print(pq.heappop(q))"
   ]
  },
  {
   "cell_type": "code",
   "execution_count": 4,
   "metadata": {},
   "outputs": [],
   "source": [
    "\"\"\"\n",
    "G: grafo como lista de adyacencia\n",
    "s: nodo inicial (start)\n",
    "e: nodo destino (end)\n",
    "\"\"\"\n",
    "def ucs(G, s, e):\n",
    "    n    = len(G)\n",
    "    vis  = [False]*n\n",
    "    gn   = [INF]*n\n",
    "    path = [None]*n\n",
    "    q    = []\n",
    "    pq.heappush(q, (0, s))\n",
    "    gn[s] = 0\n",
    "    while len(q) > 0:\n",
    "        g, u = pq.heappop(q)\n",
    "        if not vis[u]:\n",
    "            vis[u] = True\n",
    "            if u == e:\n",
    "                break\n",
    "            for v, w in G[u]:\n",
    "                if not vis[v]:\n",
    "                    f = g + w\n",
    "                    if f < gn[v]:\n",
    "                        gn[v]   = f\n",
    "                        path[v] = u\n",
    "                        pq.heappush(q, (f, v))\n",
    "                        \n",
    "    return path, gn"
   ]
  },
  {
   "cell_type": "code",
   "execution_count": 5,
   "metadata": {},
   "outputs": [],
   "source": [
    "G = [[(2, 5), (3, 8), (4, 2)],\n",
    "     [(2, 8), (3, 9), (5, 4), (6, 7)],\n",
    "     [(0, 5), (1, 8), (4, 6), (5, 6), (6, 9)],\n",
    "     [(0, 8), (1, 9)],\n",
    "     [(0, 2), (2, 6)],\n",
    "     [(1, 4), (2, 6), (7, 5)],\n",
    "     [(1, 7), (2, 9), (7, 2)],\n",
    "     [(5, 5), (6, 2)]]"
   ]
  },
  {
   "cell_type": "code",
   "execution_count": 7,
   "metadata": {},
   "outputs": [
    {
     "name": "stdout",
     "output_type": "stream",
     "text": [
      "[4, 2, 4, 0, None, 2, 2, 5]\n",
      "[2, 14, 6, 10, 0, 12, 15, 17]\n"
     ]
    }
   ],
   "source": [
    "p, g = ucs(G, 4, 7)\n",
    "print(p)\n",
    "print(g)"
   ]
  },
  {
   "cell_type": "code",
   "execution_count": 12,
   "metadata": {},
   "outputs": [],
   "source": [
    "# dls\n",
    "def dls(G, s, l):\n",
    "    n = len(G)\n",
    "    visited = [False]*n\n",
    "    queued = [False]*n\n",
    "    queued[s] = True\n",
    "    q = [(s, l)]\n",
    "    while len(q) > 0:\n",
    "        u, l = q.pop()\n",
    "        if l == 0:\n",
    "            continue\n",
    "        if not visited[u]:\n",
    "            visited[u] = True\n",
    "            print(u)\n",
    "            for v in reversed(G[u]):\n",
    "                if not queued[v]:\n",
    "                    queued[v] = True\n",
    "                    q.append((v, l-1))\n",
    "\n"
   ]
  },
  {
   "cell_type": "code",
   "execution_count": 13,
   "metadata": {},
   "outputs": [],
   "source": [
    "# IDS"
   ]
  },
  {
   "cell_type": "code",
   "execution_count": 14,
   "metadata": {},
   "outputs": [],
   "source": [
    "# k cores"
   ]
  }
 ],
 "metadata": {
  "kernelspec": {
   "display_name": "Python 3",
   "language": "python",
   "name": "python3"
  },
  "language_info": {
   "codemirror_mode": {
    "name": "ipython",
    "version": 3
   },
   "file_extension": ".py",
   "mimetype": "text/x-python",
   "name": "python",
   "nbconvert_exporter": "python",
   "pygments_lexer": "ipython3",
   "version": "3.7.3"
  }
 },
 "nbformat": 4,
 "nbformat_minor": 2
}
