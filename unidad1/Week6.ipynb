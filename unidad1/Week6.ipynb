{
 "cells": [
  {
   "cell_type": "markdown",
   "metadata": {},
   "source": [
    "# Week6"
   ]
  },
  {
   "cell_type": "markdown",
   "metadata": {},
   "source": [
    "# Kosaraju"
   ]
  },
  {
   "cell_type": "code",
   "execution_count": 1,
   "metadata": {},
   "outputs": [],
   "source": [
    "import heapq as hq\n",
    "def kosaraju(G):\n",
    "    n = len(G)\n",
    "    grev = [[] for _ in range(n)]\n",
    "    for u in range(n):\n",
    "        for v in G[u]:\n",
    "            grev.append(u)\n",
    "    \n",
    "    visited = [False]*n\n",
    "    f = []\n",
    "    d = [0]\n",
    "    \n",
    "    def dfs1(u):\n",
    "        if not visited[u]:\n",
    "            visited[u] = True\n",
    "            for v in grev[u]:\n",
    "                dfs1(v)\n",
    "            d[0] += 1\n",
    "            hq.heappush(f, (n - d[0], u))\n",
    "    \n",
    "    for u in range(n):\n",
    "        dfs1(u)\n",
    "    \n",
    "    visited = [False] * n\n",
    "    def dfs2(u):\n",
    "        if not visited[u]:\n",
    "            visited[u] = True\n",
    "            for v in G[u]:\n",
    "                dfs2(v)\n",
    "            print(u, end = ' ')\n",
    "    \n",
    "    while len(f) > 0 :\n",
    "        _, u = hq.heappop(f)\n",
    "        if not visited[u]:\n",
    "            dfs2(u)\n",
    "            print()"
   ]
  },
  {
   "cell_type": "code",
   "execution_count": 6,
   "metadata": {},
   "outputs": [
    {
     "name": "stdout",
     "output_type": "stream",
     "text": [
      "3 0 1 6 5 7 \n",
      "4 \n",
      "2 \n"
     ]
    }
   ],
   "source": [
    "G = [[3],\n",
    "[0, 5],\n",
    "[1, 4],\n",
    "[7],\n",
    "[6],\n",
    "[1, 6],\n",
    "[5, 7],\n",
    "[5, 6]]\n",
    "\n",
    "kosaraju(G)"
   ]
  },
  {
   "cell_type": "code",
   "execution_count": 7,
   "metadata": {},
   "outputs": [
    {
     "name": "stdout",
     "output_type": "stream",
     "text": [
      "2 4 6 5 1 0 3 7 \n"
     ]
    }
   ],
   "source": [
    "G2 = [[1],\n",
    "[2, 5],\n",
    "[],\n",
    "[0],\n",
    "[2],\n",
    "[1, 6, 7],\n",
    "[4, 5, 7],\n",
    "[3, 6]]\n",
    "\n",
    "kosaraju(G2)"
   ]
  }
 ],
 "metadata": {
  "kernelspec": {
   "display_name": "Python 3",
   "language": "python",
   "name": "python3"
  },
  "language_info": {
   "codemirror_mode": {
    "name": "ipython",
    "version": 3
   },
   "file_extension": ".py",
   "mimetype": "text/x-python",
   "name": "python",
   "nbconvert_exporter": "python",
   "pygments_lexer": "ipython3",
   "version": "3.7.3"
  }
 },
 "nbformat": 4,
 "nbformat_minor": 2
}
