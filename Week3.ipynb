{
 "cells": [
  {
   "cell_type": "markdown",
   "metadata": {},
   "source": [
    "# Week3"
   ]
  },
  {
   "cell_type": "code",
   "execution_count": 5,
   "metadata": {},
   "outputs": [
    {
     "name": "stdout",
     "output_type": "stream",
     "text": [
      "667\n",
      "667\n"
     ]
    }
   ],
   "source": [
    "# max of array\n",
    "a = [1,5,77,4,333,667,11,11]\n",
    "\n",
    "def maxelem(a):\n",
    "    n = len(a)\n",
    "    if n == 1:\n",
    "        return a[0]\n",
    "    else:\n",
    "        m = n//2\n",
    "        maxi = maxelem(a[:m])\n",
    "        maxd = maxelem(a[m:])\n",
    "        return maxi if maxi > maxd else maxd\n",
    "\n",
    "print(max(a)) # simple way\n",
    "print(maxelem(a)) # divide and conquer way"
   ]
  },
  {
   "cell_type": "code",
   "execution_count": 8,
   "metadata": {},
   "outputs": [
    {
     "name": "stdout",
     "output_type": "stream",
     "text": [
      "[2, 9]\n"
     ]
    }
   ],
   "source": [
    "# string matcher\n",
    "\"\"\"\n",
    "Retorna un arreglo de las posiciones de las ocurrencias de p en t\n",
    "\"\"\"\n",
    "def stringMatch(t, p):\n",
    "    n = len(t)\n",
    "    l = len(p)\n",
    "    resultados = []\n",
    "    for i in range(n):\n",
    "        if t[i:i+l] == p: # posicion + longitud de la palabra a buscar\n",
    "            resultados.append(i)\n",
    "    return resultados\n",
    "print(stringMatch('abracadabracalamazoo', 'rac'))"
   ]
  },
  {
   "cell_type": "code",
   "execution_count": 16,
   "metadata": {},
   "outputs": [
    {
     "data": {
      "text/plain": [
       "[1, 2, 3, 4, 5, 6, 7, 8, 9]"
      ]
     },
     "execution_count": 16,
     "metadata": {},
     "output_type": "execute_result"
    }
   ],
   "source": [
    "# quicksort\n",
    "def quicksort(arr):\n",
    "          if len(arr) <= 1:\n",
    "             return arr\n",
    "          pivot = arr[len(arr)//2] # find the middle element\n",
    "          left = [x for x in arr if x < pivot] # find the elements that are less than pivot and save in left\n",
    "          #print(left)  \n",
    "          middle = [x for x in arr if x == pivot] # find the elements that are equal to pivot and save it in middle\n",
    "          #print(middle)  \n",
    "          right = [x for x in arr if x > pivot] # find the elements that are more than pivot and save it in right\n",
    "          #print(right)  \n",
    "          return quicksort(left) + middle + quicksort(right) # repeat it recursive and then concat the arrays sorted\n",
    "        # yeah is a divide and conquer algorithm \n",
    "\n",
    "quicksort([1,4,5,2,7,6,9,8,3])"
   ]
  }
 ],
 "metadata": {
  "kernelspec": {
   "display_name": "Python 3",
   "language": "python",
   "name": "python3"
  },
  "language_info": {
   "codemirror_mode": {
    "name": "ipython",
    "version": 3
   },
   "file_extension": ".py",
   "mimetype": "text/x-python",
   "name": "python",
   "nbconvert_exporter": "python",
   "pygments_lexer": "ipython3",
   "version": "3.7.3"
  }
 },
 "nbformat": 4,
 "nbformat_minor": 2
}
