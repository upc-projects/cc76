{
 "cells": [
  {
   "cell_type": "markdown",
   "metadata": {},
   "source": [
    "# Week 4"
   ]
  },
  {
   "cell_type": "code",
   "execution_count": 1,
   "metadata": {},
   "outputs": [
    {
     "name": "stdout",
     "output_type": "stream",
     "text": [
      "[[3, 4, 4, 0, 3], [1, 1, 3, 4, 2], [1, 3, 0, 3, 2], [2, 3, 4, 0, 3], [4, 2, 4, 3, 4]]\n",
      "[[1, 0, 0, 0, 0], [1, 0, 0, 1, 1], [1, 0, 0, 1, 0], [1, 1, 0, 0, 1], [0, 0, 1, 0, 1]]\n",
      "[[1, 3], [0, 4], [], [2, 3], [1, 2, 3, 4]]\n"
     ]
    }
   ],
   "source": [
    "import random as rand\n",
    "\n",
    "# Con pesos en las aristas\n",
    "def rand_adj_matrix(n):\n",
    "    return [[rand.randint(0, n-1) for _ in range(0, n)] for _ in range(0, n)]\n",
    "\n",
    "\n",
    "# Matriz binaria - solo vertices\n",
    "def rand_adj_binary_matrix(n):\n",
    "    return [[rand.randint(0, 1) for _ in range(0, n)] for _ in range(0, n)]\n",
    "\n",
    "# Graficado como conexiones de punto a nodo\n",
    "def rand_adj_list(n):\n",
    "    return [list(set([rand.randint(0,n - 1) for _ in range(rand.randint(0,n))])) for _ in range(0, n)]\n",
    "\n",
    "\n",
    "if __name__ == \"__main__\":\n",
    "    print(rand_adj_matrix(5))\n",
    "    print(rand_adj_binary_matrix(5))\n",
    "    print(rand_adj_list(5))\n"
   ]
  },
  {
   "cell_type": "code",
   "execution_count": 2,
   "metadata": {},
   "outputs": [
    {
     "name": "stdout",
     "output_type": "stream",
     "text": [
      "{'A', 'E', 'C', 'D', 'F', 'B'}\n"
     ]
    }
   ],
   "source": [
    "# BFS\n",
    "\n",
    "def bfs(graph, start):\n",
    "    visited, queue = set(), [start]\n",
    "    while queue:\n",
    "        vertex = queue.pop(0)\n",
    "        if vertex not in visited:\n",
    "            visited.add(vertex)\n",
    "            queue.extend(graph[vertex] - visited)\n",
    "    return visited\n",
    "\n",
    "\n",
    "graph = {'A': set(['B', 'C']),\n",
    "         'B': set(['A', 'D', 'E']),\n",
    "         'C': set(['A', 'F']),\n",
    "         'D': set(['B']),\n",
    "         'E': set(['B', 'F']),\n",
    "         'F': set(['C', 'E'])}\n",
    "\n",
    "         \n",
    "print(bfs(graph, 'A') )\n"
   ]
  },
  {
   "cell_type": "code",
   "execution_count": null,
   "metadata": {},
   "outputs": [],
   "source": []
  }
 ],
 "metadata": {
  "kernelspec": {
   "display_name": "Python 3",
   "language": "python",
   "name": "python3"
  },
  "language_info": {
   "codemirror_mode": {
    "name": "ipython",
    "version": 3
   },
   "file_extension": ".py",
   "mimetype": "text/x-python",
   "name": "python",
   "nbconvert_exporter": "python",
   "pygments_lexer": "ipython3",
   "version": "3.7.3"
  }
 },
 "nbformat": 4,
 "nbformat_minor": 2
}
