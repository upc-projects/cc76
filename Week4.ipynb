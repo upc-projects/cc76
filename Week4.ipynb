{
 "cells": [
  {
   "cell_type": "markdown",
   "metadata": {},
   "source": [
    "# Week 4"
   ]
  },
  {
   "cell_type": "code",
   "execution_count": 28,
   "metadata": {},
   "outputs": [
    {
     "name": "stdout",
     "output_type": "stream",
     "text": [
      "[[1, 0, 0, 1, 3], [1, 2, 3, 0, 0], [3, 4, 1, 3, 1], [1, 0, 1, 1, 4], [1, 2, 3, 3, 0]]\n",
      "[[1, 1, 1, 0, 0], [1, 1, 1, 0, 1], [1, 0, 0, 0, 0], [0, 0, 1, 0, 0], [0, 1, 0, 1, 1]]\n",
      "[[1, 2], [4], [3], [0, 3, 4], []]\n"
     ]
    }
   ],
   "source": [
    "import random as rand\n",
    "\n",
    "# Con pesos en las aristas\n",
    "def rand_adj_matrix(n):\n",
    "    return [[rand.randint(0, n-1) for _ in range(0, n)] for _ in range(0, n)]\n",
    "\n",
    "\n",
    "# Matriz binaria - solo vertices\n",
    "def rand_adj_binary_matrix(n):\n",
    "    return [[rand.randint(0, 1) for _ in range(0, n)] for _ in range(0, n)]\n",
    "\n",
    "# Graficado como conexiones de punto a nodo\n",
    "def rand_adj_list(n):\n",
    "    return [list(set([rand.randint(0,n - 1) for _ in range(rand.randint(0,n))])) for _ in range(0, n)]\n",
    "\n",
    "\n",
    "if __name__ == \"__main__\":\n",
    "    print(rand_adj_matrix(5))\n",
    "    print(rand_adj_binary_matrix(5))\n",
    "    print(rand_adj_list(5))\n"
   ]
  },
  {
   "cell_type": "code",
   "execution_count": 2,
   "metadata": {},
   "outputs": [
    {
     "name": "stdout",
     "output_type": "stream",
     "text": [
      "{'A', 'E', 'C', 'D', 'F', 'B'}\n"
     ]
    }
   ],
   "source": [
    "# BFS\n",
    "\n",
    "def bfs(graph, start):\n",
    "    visited, queue = set(), [start]\n",
    "    while queue:\n",
    "        vertex = queue.pop(0)\n",
    "        if vertex not in visited:\n",
    "            visited.add(vertex)\n",
    "            queue.extend(graph[vertex] - visited)\n",
    "    return visited\n",
    "\n",
    "\n",
    "graph = {'A': set(['B', 'C']),\n",
    "         'B': set(['A', 'D', 'E']),\n",
    "         'C': set(['A', 'F']),\n",
    "         'D': set(['B']),\n",
    "         'E': set(['B', 'F']),\n",
    "         'F': set(['C', 'E'])}\n",
    "\n",
    "         \n",
    "print(bfs(graph, 'A') )\n"
   ]
  },
  {
   "cell_type": "code",
   "execution_count": 34,
   "metadata": {},
   "outputs": [],
   "source": [
    "# DFS\n",
    "\n",
    "def dfs(G, s):\n",
    "    n = len(G)\n",
    "    visited = [False]*n\n",
    "    queued = [False]*n\n",
    "    queued[s] = True\n",
    "    q = [s]\n",
    "    while len(q) > 0:\n",
    "        u = q.pop()\n",
    "        if not visited[u]:\n",
    "            visited[u] = True\n",
    "            print(u)\n",
    "            for v in reversed(G[u]):\n",
    "                if not queued[v]:\n",
    "                    queued[v] = True\n",
    "                    q.append(v)"
   ]
  },
  {
   "cell_type": "code",
   "execution_count": 37,
   "metadata": {},
   "outputs": [
    {
     "name": "stdout",
     "output_type": "stream",
     "text": [
      "1\n",
      "3\n",
      "0\n",
      "4\n",
      "2\n"
     ]
    }
   ],
   "source": [
    "G = [[2, 1, 1, 1, 0], [3, 4, 2, 1, 2], [2, 2, 0, 2, 1], [0, 4, 3, 2, 3], [4, 0, 0, 4, 0]]\n",
    "dfs(G, 1)"
   ]
  },
  {
   "cell_type": "code",
   "execution_count": 40,
   "metadata": {},
   "outputs": [
    {
     "name": "stdout",
     "output_type": "stream",
     "text": [
      "[2, 4, 6, 7, 3, 5]\n"
     ]
    }
   ],
   "source": [
    "# dfs recursive\n",
    "def dfs_recursive(graph, vertex, path=[]):\n",
    "    path += [vertex]\n",
    "\n",
    "    for neighbor in graph[vertex-1]:\n",
    "        if neighbor not in path:\n",
    "            path = dfs_recursive(graph, neighbor, path)\n",
    "\n",
    "    return path\n",
    "\n",
    "\n",
    "adjacency_matrix = [[2, 3], [4, 5],\n",
    "                    [5], [6],[6],\n",
    "                    [7], [3]]\n",
    "\n",
    "print(dfs_recursive(adjacency_matrix, 2))\n",
    "# [1, 2, 4, 6, 7, 5, 3]"
   ]
  },
  {
   "cell_type": "code",
   "execution_count": null,
   "metadata": {},
   "outputs": [],
   "source": [
    "# DFS TSP\n",
    "\n",
    "def dfs_tsp(graph, vertex, path=[]):\n",
    "    path += []"
   ]
  },
  {
   "cell_type": "code",
   "execution_count": null,
   "metadata": {},
   "outputs": [],
   "source": []
  }
 ],
 "metadata": {
  "kernelspec": {
   "display_name": "Python 3",
   "language": "python",
   "name": "python3"
  },
  "language_info": {
   "codemirror_mode": {
    "name": "ipython",
    "version": 3
   },
   "file_extension": ".py",
   "mimetype": "text/x-python",
   "name": "python",
   "nbconvert_exporter": "python",
   "pygments_lexer": "ipython3",
   "version": "3.7.3"
  }
 },
 "nbformat": 4,
 "nbformat_minor": 2
}
